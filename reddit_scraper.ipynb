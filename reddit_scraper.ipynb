{
  "nbformat": 4,
  "nbformat_minor": 0,
  "metadata": {
    "colab": {
      "provenance": [],
      "authorship_tag": "ABX9TyNLmh3Y2NEMft0qCYODYLBa"
    },
    "kernelspec": {
      "name": "python3",
      "display_name": "Python 3"
    },
    "language_info": {
      "name": "python"
    }
  },
  "cells": [
    {
      "cell_type": "code",
      "source": [
        "import pandas as pd\n",
        "from prawcore.exceptions import Forbidden"
      ],
      "metadata": {
        "id": "8BEIfvRC5Hrp"
      },
      "execution_count": null,
      "outputs": []
    },
    {
      "cell_type": "code",
      "execution_count": null,
      "metadata": {
        "id": "fKLg9t9BSJeW"
      },
      "outputs": [],
      "source": [
        "# Import Libraries\n",
        "import praw\n",
        "\n",
        "def scrape():\n",
        "  try:\n",
        "    # Please change with your own client id, client secret, and user agent\n",
        "    # Initializing the client id, client secret, and user agent\n",
        "    reddit = praw.Reddit(client_id= '', #Enter your client id\n",
        "                     client_secret= '', #Enter your secret key\n",
        "                     user_agent= '', #Enter your client user agent\n",
        "                     check_for_async = False)\n",
        "\n",
        "    hot_posts = reddit.subreddit('r/chile').search('cáncer', sort='hot', limit=10000)   #Please change with your the subreddit of your choice\n",
        "\n",
        "    for post in hot_posts:\n",
        "      # Title of each post\n",
        "      posts_dict[\"Title\"].append(post.title)\n",
        "\n",
        "      # Text inside a post\n",
        "      posts_dict[\"Post Text\"].append(post.selftext)\n",
        "\n",
        "      # Unique ID of each post\n",
        "      posts_dict[\"ID\"].append(post.id)\n",
        "\n",
        "      # The score of a post\n",
        "      posts_dict[\"Score\"].append(post.score)\n",
        "\n",
        "      # Total number of comments inside the post\n",
        "      posts_dict[\"Total Comments\"].append(post.num_comments)\n",
        "\n",
        "      # URL of each post\n",
        "      posts_dict[\"Post URL\"].append(post.url)\n",
        "\n",
        "    # Fetching the reddits\n",
        "    reddit_posts = []\n",
        "    for post in hot_posts:\n",
        "      reddit_posts.append(post.selftext)\n",
        "\n",
        "  except Forbidden:\n",
        "       print(\"We\\'ve been banned!\")\n",
        "  return reddit_posts"
      ]
    },
    {
      "cell_type": "code",
      "source": [
        "posts_dict = {\"Title\": [], \"Post Text\": [],\n",
        "              \"ID\": [], \"Score\": [],\n",
        "              \"Total Comments\": [], \"Post URL\": []\n",
        "              }\n",
        "\n",
        "hot_posts = scrape()\n",
        "print(len(posts_dict['Post Text']))   #Number of posts scraped"
      ],
      "metadata": {
        "id": "k7MW5HzvS8sc"
      },
      "execution_count": null,
      "outputs": []
    },
    {
      "cell_type": "code",
      "source": [
        "# Saving the data in a pandas dataframe\n",
        "top_posts = pd.DataFrame(posts_dict)\n",
        "top_posts.to_excel(\"file_op_path/output.xlsx\", index=True)   #Enter the file output path"
      ],
      "metadata": {
        "id": "ovFlqboWV3Ab"
      },
      "execution_count": null,
      "outputs": []
    }
  ]
}